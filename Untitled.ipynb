{
 "cells": [
  {
   "cell_type": "code",
   "execution_count": 2,
   "id": "banned-conflict",
   "metadata": {},
   "outputs": [],
   "source": [
    "import soundfile as sf\n",
    "import librosa\n",
    "from IPython.display import Audio\n",
    "import scipy.io.wavfile as sc\n",
    "%matplotlib inline\n",
    "import matplotlib.pyplot as plt\n",
    "import librosa.display\n",
    "import numpy as np"
   ]
  },
  {
   "cell_type": "code",
   "execution_count": 3,
   "id": "complimentary-member",
   "metadata": {},
   "outputs": [],
   "source": [
    "i = 'class1.cls'\n",
    "with open('class_200/'+i) as f:\n",
    "    lines = f.readlines()\n",
    "lines = lines[1:]"
   ]
  },
  {
   "cell_type": "code",
   "execution_count": 4,
   "id": "likely-teacher",
   "metadata": {},
   "outputs": [
    {
     "name": "stdout",
     "output_type": "stream",
     "text": [
      "TIMIT/TRAIN/DR1/FDAW0/SA1.WAV\n"
     ]
    }
   ],
   "source": [
    "count = 0\n",
    "for line in lines:\n",
    "    if count == 1:\n",
    "        break\n",
    "    region = line[:3].upper()\n",
    "    speaker = line[3: 8].upper()\n",
    "    j = 11\n",
    "    while line[j] != 'w':\n",
    "        j += 1\n",
    "    sent = line[8: j].upper()\n",
    "    ext = line[j:j+3].upper()\n",
    "    start = line[j+4: j+9]\n",
    "    end = line[j+10:j+15]\n",
    "    audio = 'TIMIT/TRAIN/'+region+'/'+speaker+'/'+sent+'.'+ext\n",
    "    print(audio)\n",
    "    '''audio_section, sample_rate = read_audio_section(audio, int(start), int(end))\n",
    "    [F1, data1] = sc.read(audio)\n",
    "    plt.plot(data1)'''\n",
    "    x, sr = librosa.load(audio, sr = 16000)\n",
    "    Audio(data=audio, autoplay = False)\n",
    "    count += 1"
   ]
  },
  {
   "cell_type": "code",
   "execution_count": null,
   "id": "happy-brunswick",
   "metadata": {},
   "outputs": [],
   "source": []
  }
 ],
 "metadata": {
  "kernelspec": {
   "display_name": "venv",
   "language": "python",
   "name": "venv"
  },
  "language_info": {
   "codemirror_mode": {
    "name": "ipython",
    "version": 3
   },
   "file_extension": ".py",
   "mimetype": "text/x-python",
   "name": "python",
   "nbconvert_exporter": "python",
   "pygments_lexer": "ipython3",
   "version": "3.8.5"
  }
 },
 "nbformat": 4,
 "nbformat_minor": 5
}
